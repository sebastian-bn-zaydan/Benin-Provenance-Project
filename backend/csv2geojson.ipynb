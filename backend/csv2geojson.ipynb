{
 "cells": [
  {
   "cell_type": "code",
   "execution_count": 1,
   "metadata": {},
   "outputs": [],
   "source": [
    "from bs4 import BeautifulSoup\n",
    "import requests\n",
    "import re\n",
    "import csv\n",
    "import json\n",
    "import numpy as np\n",
    "from random import randint\n",
    "import pandas as pd\n",
    "import googlemaps\n",
    "from geotext import GeoText"
   ]
  },
  {
   "cell_type": "code",
   "execution_count": 2,
   "metadata": {},
   "outputs": [],
   "source": [
    "gmapKey =\n",
    "gmaps = googlemaps.Client(key=gmapKey)"
   ]
  },
  {
   "cell_type": "code",
   "execution_count": 4,
   "metadata": {},
   "outputs": [],
   "source": [
    "provfile = '../data/BeninArtifacts.csv'\n",
    "df = pd.read_csv(provfile)\n",
    "df['NextProvNum'] = df['ProvNum'].shift(-1)"
   ]
  },
  {
   "cell_type": "code",
   "execution_count": 44,
   "metadata": {},
   "outputs": [],
   "source": [
    "all_properties = []\n",
    "all_geometry = []\n",
    "curr_item_properties = []\n",
    "curr_item_geometry = []\n",
    "curr_item_provenance = []\n",
    "for ii, row in df.iterrows():\n",
    "    if row['ProvNum'] == 0:\n",
    "        prop_line = []\n",
    "        prop_line.append('\"index\": \"'+str(len(all_properties))+'\"')\n",
    "        prop_line.append('\"item\": \"'+str(row['Item'])+'\"')\n",
    "        prop_line.append('\"name\": \"'+str(row['Name'])+'\"')\n",
    "        prop_line.append('\"institution\": \"'+str(row['Location'])+'\"')\n",
    "        prop_line.append('\"img_url\": \"'+str(row['IMG'])+'\"')\n",
    "        prop_line.append('\"item_link\": \"'+str(row['Link'])+'\"')\n",
    "        all_properties.append(', '.join(prop_line))\n",
    "    curr_prop = []\n",
    "    curr_prop.append('\"index\": \"'+str(row['ProvNum'])+'\"')\n",
    "    curr_prop.append('\"item\": \"'+str(row['Item'])+'\"')\n",
    "    curr_prop.append('\"provenance\": \"'+str(row['Provenance'])+'\"')\n",
    "    curr_item_provenance.append('\"provenance\": \"'+str(row['Provenance'])+'\"')\n",
    "    curr_prop.append('\"place\": \"'+str(row['place'])+'\"')\n",
    "    curr_prop.append('\"yearStr\": \"'+str(row['year'])+'\"')\n",
    "    curr_prop.append('\"year\": \"'+str(row['year']).split('/')[-1]+'\"')\n",
    "    curr_item_properties.append(', '.join(curr_prop))\n",
    "    geocode_result = gmaps.geocode(row['place'])\n",
    "    ECo,NCo = geocode_result[0]['geometry']['location'].values()\n",
    "    curr_item_geometry.append(str(NCo+randint(-10,10)/200)+', '+str(ECo+randint(-10,10)/200))\n",
    "    if row['NextProvNum'] == 0 or row['NextProvNum'] == np.nan:\n",
    "        lines = []\n",
    "        for ii,(prop,geom) in enumerate(zip(curr_item_properties,curr_item_geometry)):\n",
    "            lines.append('{\"type\": \"Feature\", \"id\": '+str(ii)+', \"properties\": {'+prop+'}, \"geometry\": { \"type\": \"Point\",\"coordinates\": ['+geom+'] } }')\n",
    "        f = open('../data/'+str(row['Item'])+'.geojson', \"w\")\n",
    "        f.write('{\\n')\n",
    "        f.write('\"type\": \"FeatureCollection\", \\n')\n",
    "        f.write('\"features\": [\\n')\n",
    "        f.write(',\\n'.join(lines))\n",
    "        f.write('\\n]}')\n",
    "        f.close()\n",
    "        all_geometry.append(curr_item_geometry[-1])\n",
    "        curr_item_properties = []\n",
    "        curr_item_geometry = []\n",
    "        curr_item_provenance = []"
   ]
  },
  {
   "cell_type": "code",
   "execution_count": 45,
   "metadata": {},
   "outputs": [],
   "source": [
    "lines = []\n",
    "for ii,(prop,geom) in enumerate(zip(all_properties,all_geometry)):\n",
    "    lines.append('{\"type\": \"Feature\", \"id\": '+str(ii)+', \"properties\": {'+prop+'}, \"geometry\": { \"type\": \"Point\",\"coordinates\": ['+geom+'] } }')\n",
    "f = open('../data/all.geojson', \"w\")\n",
    "f.write('{\\n')\n",
    "f.write('\"type\": \"FeatureCollection\", \\n')\n",
    "f.write('\"features\": [\\n')\n",
    "f.write(',\\n'.join(lines))\n",
    "f.write('\\n]}')\n",
    "f.close()"
   ]
  },
  {
   "cell_type": "code",
   "execution_count": null,
   "metadata": {},
   "outputs": [],
   "source": []
  }
 ],
 "metadata": {
  "kernelspec": {
   "display_name": "Python 3",
   "language": "python",
   "name": "python3"
  },
  "language_info": {
   "codemirror_mode": {
    "name": "ipython",
    "version": 3
   },
   "file_extension": ".py",
   "mimetype": "text/x-python",
   "name": "python",
   "nbconvert_exporter": "python",
   "pygments_lexer": "ipython3",
   "version": "3.7.4"
  }
 },
 "nbformat": 4,
 "nbformat_minor": 2
}
